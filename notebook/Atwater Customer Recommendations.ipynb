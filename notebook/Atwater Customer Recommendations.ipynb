{
 "cells": [
  {
   "cell_type": "markdown",
   "metadata": {},
   "source": [
    "# Atwater Customer Recommendations\n",
    "\n",
    "#### A demo using DataStax Enterprise Analytics, Apache Cassandra, Apache Spark, Python and Jupyter Notebooks to utilize the power of big customer data to recommend items to our customers with a high degree of accruacy "
   ]
  },
  {
   "cell_type": "markdown",
   "metadata": {},
   "source": [
    "### Things To Setup\n",
    "* Install DSE https://docs.datastax.com/en/install/doc/install60/installTOC.html\n",
    "* Start DSE Analytics Cluster\n",
    "* Using Python 2.7\n",
    "* Using DSE Analytics 6\n",
    "* Using latest verion of Jupyter \n",
    "* Find full path to <>/lib/pyspark.zip\n",
    "* Find full path to <>/lib/py4j-0.10.4-src.zip\n",
    "* Start Jupyter with DSE to get all environemnt variables: dse exec jupyter notebook\n",
    "* Make sure that the all the CSV files are in the same locations as this notebook\n",
    "* Make sure that all \\*.cql files are in the same locations as this notebook\n",
    "* !pip install cassandra-driver\n",
    "* !pip install pattern \n",
    "* !pip install panadas\n",
    "* Counter-intuitive don't install pyspark!!"
   ]
  },
  {
   "cell_type": "markdown",
   "metadata": {},
   "source": [
    "#### Add some environment variables to find dse verision of pyspark. Edit these varibles with your path."
   ]
  },
  {
   "cell_type": "code",
   "execution_count": 3,
   "metadata": {},
   "outputs": [],
   "source": [
    "pysparkzip = \"/usr/share/dse/spark/python/lib/pyspark.zip\"\n",
    "py4jzip = \"/usr/share/dse/spark/python/lib/py4j-0.10.4-src.zip\""
   ]
  },
  {
   "cell_type": "code",
   "execution_count": 4,
   "metadata": {},
   "outputs": [],
   "source": [
    "# Needed to be able to find pyspark libaries\n",
    "import sys\n",
    "sys.path.append(pysparkzip)\n",
    "sys.path.append(py4jzip)"
   ]
  },
  {
   "cell_type": "markdown",
   "metadata": {},
   "source": [
    "#### Import python packages -- all are required"
   ]
  },
  {
   "cell_type": "code",
   "execution_count": 6,
   "metadata": {},
   "outputs": [],
   "source": [
    "import pandas\n",
    "import cassandra\n",
    "import pyspark\n",
    "import re\n",
    "import os\n",
    "from IPython.display import display, Markdown\n",
    "from pyspark.sql import SparkSession\n",
    "from pyspark.ml.feature import Tokenizer, RegexTokenizer, StopWordsRemover\n",
    "from pyspark.sql.functions import col, udf\n",
    "from pyspark.sql.types import IntegerType\n",
    "from pattern.en import sentiment, positive"
   ]
  },
  {
   "cell_type": "markdown",
   "metadata": {},
   "source": [
    "#### Helper function to have nicer formatting of Spark DataFrames"
   ]
  },
  {
   "cell_type": "code",
   "execution_count": 7,
   "metadata": {},
   "outputs": [],
   "source": [
    "#Helper for pretty formatting for Spark DataFrames\n",
    "def showDF(df, limitRows =  5, truncate = True):\n",
    "    if(truncate):\n",
    "        pandas.set_option('display.max_colwidth', 50)\n",
    "    else:\n",
    "        pandas.set_option('display.max_colwidth', -1)\n",
    "    pandas.set_option('display.max_rows', limitRows)\n",
    "    display(df.limit(limitRows).toPandas())\n",
    "    pandas.reset_option('display.max_rows')"
   ]
  },
  {
   "cell_type": "markdown",
   "metadata": {},
   "source": [
    "### Creating Tables, Pulling Tweets, and Loading Tables"
   ]
  },
  {
   "cell_type": "markdown",
   "metadata": {},
   "source": [
    "#### Connect to DSE Analytics Cluster"
   ]
  },
  {
   "cell_type": "code",
   "execution_count": 8,
   "metadata": {},
   "outputs": [],
   "source": [
    "from cassandra.cluster import Cluster\n",
    "\n",
    "cluster = Cluster(['127.0.0.1']) #If you have a locally installed DSE cluster\n",
    "session = cluster.connect()"
   ]
  },
  {
   "cell_type": "markdown",
   "metadata": {},
   "source": [
    "#### Create Demo Keyspace --Replication Factor is 1 since only have a one node demo cluster. Replication Factor is recommended at 3 or Write Consistency + Read Consistency > Replication Factor"
   ]
  },
  {
   "cell_type": "code",
   "execution_count": 9,
   "metadata": {},
   "outputs": [
    {
     "data": {
      "text/plain": [
       "<cassandra.cluster.ResultSet at 0x69a3410>"
      ]
     },
     "execution_count": 9,
     "metadata": {},
     "output_type": "execute_result"
    }
   ],
   "source": [
    "session.execute(\"\"\"\n",
    "    CREATE KEYSPACE IF NOT EXISTS demo \n",
    "    WITH REPLICATION = \n",
    "    { 'class' : 'SimpleStrategy', 'replication_factor' : 1 }\"\"\"\n",
    ")"
   ]
  },
  {
   "cell_type": "markdown",
   "metadata": {},
   "source": [
    "#### Set keyspace "
   ]
  },
  {
   "cell_type": "code",
   "execution_count": 10,
   "metadata": {},
   "outputs": [],
   "source": [
    "session.set_keyspace('demo')"
   ]
  },
  {
   "cell_type": "markdown",
   "metadata": {},
   "source": [
    "### Create the customer transaction table in DSE (this is for completed transactions).  This table will be updated with about 1000 transactions a minute (Atwater has around 200,000 transactions a day on their website)\n",
    "#### Our primary key will be on state (limiting our analysis to just the US), and our clustering columns will be around gender, age and the transaction id. Consider your data model when choosing your primary key. This will give us a good distriubtion of the data and a unique row for each transaction. We will also be able to create models around age, gender, and state to give the best possible recommendations. \n",
    "\n",
    "##### For this demo this table will store 1 million records"
   ]
  },
  {
   "cell_type": "code",
   "execution_count": 11,
   "metadata": {},
   "outputs": [
    {
     "data": {
      "text/plain": [
       "<cassandra.cluster.ResultSet at 0x69ac450>"
      ]
     },
     "execution_count": 11,
     "metadata": {},
     "output_type": "execute_result"
    }
   ],
   "source": [
    "query = \"CREATE TABLE IF NOT EXISTS customer_transactions (id int, \\\n",
    "                                                            customer_name text, \\\n",
    "                                                            gender text, age int, \\\n",
    "                                                            state text, home_store int, \\\n",
    "                                                            items list<text>, year int, \\\n",
    "                                                            month int, rewards_member text, \\\n",
    "                                                            PRIMARY KEY ((state), gender, age, id))\"\n",
    "session.execute(query)\n"
   ]
  },
  {
   "cell_type": "markdown",
   "metadata": {},
   "source": [
    "### Create the live customer table in DSE - this represents live customers that are currently logged in on the site and what they have in their shopping cart. \n",
    "#### We will use that information to get a prediction of what we should recommend for them.  The data model is the same as above. \n",
    "##### For the ease of the demo the items per cart will just be 1 item. For demo this table will hold 10K records"
   ]
  },
  {
   "cell_type": "code",
   "execution_count": 12,
   "metadata": {},
   "outputs": [
    {
     "data": {
      "text/plain": [
       "<cassandra.cluster.ResultSet at 0x2f4ae50>"
      ]
     },
     "execution_count": 12,
     "metadata": {},
     "output_type": "execute_result"
    }
   ],
   "source": [
    "query = \"CREATE TABLE IF NOT EXISTS customer_live (id int, \\\n",
    "                                                            customer_name text, \\\n",
    "                                                            gender text, age int, \\\n",
    "                                                            state text, home_store int, \\\n",
    "                                                            items list<text>, year int, \\\n",
    "                                                            month int, rewards_member text, \\\n",
    "                                                            PRIMARY KEY ((state), gender, age, id))\"\n",
    "session.execute(query)"
   ]
  },
  {
   "cell_type": "markdown",
   "metadata": {},
   "source": [
    "### Create the Customer Recommendation Table in DSE\n",
    "#### This table will be used with the inventory table to show the correct, in-stock items by the website. --In reality this information probably would not be written back to a Cassandra table as it doesn't need to be stored long-term. For the shake of the demo showing fast reads and fast writes. "
   ]
  },
  {
   "cell_type": "code",
   "execution_count": 41,
   "metadata": {},
   "outputs": [
    {
     "data": {
      "text/plain": [
       "<cassandra.cluster.ResultSet at 0x7984e90>"
      ]
     },
     "execution_count": 41,
     "metadata": {},
     "output_type": "execute_result"
    }
   ],
   "source": [
    "query = \"CREATE TABLE IF NOT EXISTS customer_recommend (id int, \\\n",
    "                                                            customer_name text, \\\n",
    "                                                            gender text, age int, \\\n",
    "                                                            state text, home_store int, \\\n",
    "                                                            items list<text>, year int, \\\n",
    "                                                            month int, rewards_member text,\\\n",
    "                                                            prediction list<text>,\\\n",
    "                                                            PRIMARY KEY ((id, state), gender, age))\"\n",
    "session.execute(query)"
   ]
  },
  {
   "cell_type": "markdown",
   "metadata": {},
   "source": [
    "### Create the Inventory Table in DSE \n",
    "#### Our primary key is going to be around the item type (pants, shirts, blender), the location of the items, the sku, and if it the items is currently avaliable. While customers may want to look at items that are on back-order, we do not want to recommend them. This will only cause frustration. This table would have around 6 million entries at one time, with inserts/deletions daily. "
   ]
  },
  {
   "cell_type": "code",
   "execution_count": 67,
   "metadata": {},
   "outputs": [
    {
     "data": {
      "text/plain": [
       "<cassandra.cluster.ResultSet at 0x78d9310>"
      ]
     },
     "execution_count": 67,
     "metadata": {},
     "output_type": "execute_result"
    }
   ],
   "source": [
    "query = \"CREATE TABLE IF NOT EXISTS inventory (sku int, \\\n",
    "                                               item_name text, item_type text, \\\n",
    "                                               stock_loc text, num_items int, \\\n",
    "                                               backorder text, \\\n",
    "                                               PRIMARY KEY (item_type, stock_loc, backorder, sku))\"\n",
    "session.execute(query)"
   ]
  },
  {
   "cell_type": "markdown",
   "metadata": {},
   "source": [
    "#### Load CSV files into DSE for Customer Transactions, Customer Live/Shopping Cart and Inventory Tables\n",
    "##### Note could also use bulk loader or a loop with insert statements"
   ]
  },
  {
   "cell_type": "code",
   "execution_count": 15,
   "metadata": {},
   "outputs": [
    {
     "name": "stdout",
     "output_type": "stream",
     "text": [
      "1|Customer1|M|20|AL|0|['tshirt', 'jeans']|2017|6|Y\n",
      "2|Customer2|F|50|AK|1|['shoes', 'heels', 'dress']|2017|6|N\n",
      "COPY demo.customer_transactions( id, customer_name, gender, age, state, home_store, items, year, month, rewards_member) FROM 'customer.csv' WITH DELIMITER = '|';\n",
      "Using 3 child processes\n",
      "\n",
      "Starting copy of demo.customer_transactions with columns [id, customer_name, gender, age, state, home_store, items, year, month, rewards_member].\n"
     ]
    },
    {
     "name": "stdout",
     "output_type": "stream",
     "text": [
      "Processed: 810000 rows; Rate:   27592 rows/s; Avg. rate:   19641 rows/socessed: 15000 rows; Rate:   22385 rows/s; Avg. rate:   14091 rows/sProcessed: 20000 rows; Rate:   18639 rows/s; Avg. rate:   14283 rows/sProcessed: 25000 rows; Rate:   16838 rows/s; Avg. rate:   14428 rows/sProcessed: 30000 rows; Rate:   16665 rows/s; Avg. rate:   14736 rows/sProcessed: 35000 rows; Rate:   18061 rows/s; Avg. rate:   15265 rows/sProcessed: 50000 rows; Rate:   34635 rows/s; Avg. rate:   19336 rows/sProcessed: 55000 rows; Rate:   26745 rows/s; Avg. rate:   19292 rows/sProcessed: 60000 rows; Rate:   19231 rows/s; Avg. rate:   18306 rows/sProcessed: 65000 rows; Rate:   17548 rows/s; Avg. rate:   18092 rows/sProcessed: 75000 rows; Rate:   24440 rows/s; Avg. rate:   19172 rows/sProcessed: 90000 rows; Rate:   38517 rows/s; Avg. rate:   21443 rows/sProcessed: 95000 rows; Rate:   27062 rows/s; Avg. rate:   21029 rows/sProcessed: 100000 rows; Rate:   18540 rows/s; Avg. rate:   19934 rows/sProcessed: 110000 rows; Rate:   23517 rows/s; Avg. rate:   20493 rows/sProcessed: 120000 rows; Rate:   26183 rows/s; Avg. rate:   21000 rows/sProcessed: 125000 rows; Rate:   22763 rows/s; Avg. rate:   20928 rows/sProcessed: 130000 rows; Rate:   19088 rows/s; Avg. rate:   20644 rows/sProcessed: 135000 rows; Rate:   16539 rows/s; Avg. rate:   20287 rows/sProcessed: 140000 rows; Rate:   15478 rows/s; Avg. rate:   19996 rows/sProcessed: 160000 rows; Rate:   40800 rows/s; Avg. rate:   21906 rows/sProcessed: 165000 rows; Rate:   27757 rows/s; Avg. rate:   21587 rows/sProcessed: 175000 rows; Rate:   29854 rows/s; Avg. rate:   21994 rows/sProcessed: 180000 rows; Rate:   23852 rows/s; Avg. rate:   21853 rows/sProcessed: 190000 rows; Rate:   30586 rows/s; Avg. rate:   22341 rows/sProcessed: 195000 rows; Rate:   22259 rows/s; Avg. rate:   22000 rows/sProcessed: 205000 rows; Rate:   26791 rows/s; Avg. rate:   22324 rows/sProcessed: 210000 rows; Rate:   21485 rows/s; Avg. rate:   22124 rows/sProcessed: 220000 rows; Rate:   27909 rows/s; Avg. rate:   22488 rows/sProcessed: 225000 rows; Rate:   16339 rows/s; Avg. rate:   20773 rows/sProcessed: 240000 rows; Rate:   36956 rows/s; Avg. rate:   21637 rows/sProcessed: 250000 rows; Rate:   33258 rows/s; Avg. rate:   21871 rows/sProcessed: 255000 rows; Rate:   23733 rows/s; Avg. rate:   21643 rows/sProcessed: 265000 rows; Rate:   29397 rows/s; Avg. rate:   21960 rows/sProcessed: 280000 rows; Rate:   40669 rows/s; Avg. rate:   22660 rows/sProcessed: 285000 rows; Rate:   23454 rows/s; Avg. rate:   21660 rows/sProcessed: 295000 rows; Rate:   28395 rows/s; Avg. rate:   21921 rows/sProcessed: 305000 rows; Rate:   33388 rows/s; Avg. rate:   22233 rows/sProcessed: 310000 rows; Rate:   25133 rows/s; Avg. rate:   22120 rows/sProcessed: 315000 rows; Rate:   16174 rows/s; Avg. rate:   21418 rows/sProcessed: 325000 rows; Rate:   28004 rows/s; Avg. rate:   21727 rows/sProcessed: 330000 rows; Rate:   17393 rows/s; Avg. rate:   21025 rows/sProcessed: 340000 rows; Rate:   26747 rows/s; Avg. rate:   21286 rows/sProcessed: 345000 rows; Rate:   19548 rows/s; Avg. rate:   21065 rows/sProcessed: 355000 rows; Rate:   28581 rows/s; Avg. rate:   21330 rows/sProcessed: 360000 rows; Rate:   22127 rows/s; Avg. rate:   21223 rows/sProcessed: 365000 rows; Rate:   20839 rows/s; Avg. rate:   21198 rows/sProcessed: 370000 rows; Rate:   19047 rows/s; Avg. rate:   21133 rows/sProcessed: 375000 rows; Rate:   16848 rows/s; Avg. rate:   21009 rows/sProcessed: 385000 rows; Rate:   22248 rows/s; Avg. rate:   21141 rows/sProcessed: 390000 rows; Rate:   17852 rows/s; Avg. rate:   20987 rows/sProcessed: 400000 rows; Rate:   22173 rows/s; Avg. rate:   21097 rows/sProcessed: 405000 rows; Rate:   14706 rows/s; Avg. rate:   20610 rows/sProcessed: 415000 rows; Rate:   22948 rows/s; Avg. rate:   20780 rows/sProcessed: 420000 rows; Rate:   21262 rows/s; Avg. rate:   20765 rows/sProcessed: 425000 rows; Rate:   19566 rows/s; Avg. rate:   20725 rows/sProcessed: 430000 rows; Rate:   16200 rows/s; Avg. rate:   20578 rows/sProcessed: 440000 rows; Rate:   27797 rows/s; Avg. rate:   20804 rows/sProcessed: 445000 rows; Rate:   21037 rows/s; Avg. rate:   20698 rows/sProcessed: 450000 rows; Rate:   18445 rows/s; Avg. rate:   20628 rows/sProcessed: 455000 rows; Rate:   17526 rows/s; Avg. rate:   20573 rows/sProcessed: 460000 rows; Rate:   15218 rows/s; Avg. rate:   20441 rows/sProcessed: 465000 rows; Rate:   17507 rows/s; Avg. rate:   20434 rows/sProcessed: 470000 rows; Rate:   17644 rows/s; Avg. rate:   20401 rows/sProcessed: 475000 rows; Rate:   18379 rows/s; Avg. rate:   20387 rows/sProcessed: 485000 rows; Rate:   24740 rows/s; Avg. rate:   20533 rows/sProcessed: 490000 rows; Rate:   21236 rows/s; Avg. rate:   20500 rows/sProcessed: 500000 rows; Rate:   24673 rows/s; Avg. rate:   20611 rows/sProcessed: 505000 rows; Rate:   21943 rows/s; Avg. rate:   20597 rows/sProcessed: 515000 rows; Rate:   27040 rows/s; Avg. rate:   20741 rows/sProcessed: 520000 rows; Rate:   19855 rows/s; Avg. rate:   20615 rows/sProcessed: 530000 rows; Rate:   24434 rows/s; Avg. rate:   20726 rows/sProcessed: 535000 rows; Rate:   17070 rows/s; Avg. rate:   20510 rows/sProcessed: 540000 rows; Rate:   16765 rows/s; Avg. rate:   20464 rows/sProcessed: 545000 rows; Rate:   15614 rows/s; Avg. rate:   20386 rows/sProcessed: 550000 rows; Rate:   12115 rows/s; Avg. rate:   20136 rows/sProcessed: 555000 rows; Rate:   13511 rows/s; Avg. rate:   20073 rows/sProcessed: 570000 rows; Rate:   28853 rows/s; Avg. rate:   20365 rows/sProcessed: 575000 rows; Rate:   19446 rows/s; Avg. rate:   20185 rows/sProcessed: 580000 rows; Rate:   16763 rows/s; Avg. rate:   20110 rows/sProcessed: 585000 rows; Rate:   16703 rows/s; Avg. rate:   20074 rows/sProcessed: 595000 rows; Rate:   23605 rows/s; Avg. rate:   20190 rows/sProcessed: 600000 rows; Rate:   18967 rows/s; Avg. rate:   20121 rows/sProcessed: 610000 rows; Rate:   28544 rows/s; Avg. rate:   20278 rows/sProcessed: 615000 rows; Rate:   18391 rows/s; Avg. rate:   20040 rows/sProcessed: 625000 rows; Rate:   26491 rows/s; Avg. rate:   20176 rows/sProcessed: 635000 rows; Rate:   28166 rows/s; Avg. rate:   20279 rows/sProcessed: 645000 rows; Rate:   33277 rows/s; Avg. rate:   20429 rows/sProcessed: 650000 rows; Rate:   22626 rows/s; Avg. rate:   20318 rows/sProcessed: 655000 rows; Rate:   17214 rows/s; Avg. rate:   20207 rows/sProcessed: 665000 rows; Rate:   24170 rows/s; Avg. rate:   20314 rows/sProcessed: 675000 rows; Rate:   26728 rows/s; Avg. rate:   20407 rows/sProcessed: 680000 rows; Rate:   21753 rows/s; Avg. rate:   20374 rows/sProcessed: 685000 rows; Rate:   12812 rows/s; Avg. rate:   19760 rows/sProcessed: 690000 rows; Rate:   14958 rows/s; Avg. rate:   19737 rows/sProcessed: 695000 rows; Rate:   14630 rows/s; Avg. rate:   19684 rows/sProcessed: 705000 rows; Rate:   22470 rows/s; Avg. rate:   19782 rows/sProcessed: 710000 rows; Rate:   19278 rows/s; Avg. rate:   19750 rows/sProcessed: 715000 rows; Rate:   16963 rows/s; Avg. rate:   19702 rows/sProcessed: 725000 rows; Rate:   25043 rows/s; Avg. rate:   19813 rows/sProcessed: 730000 rows; Rate:   20558 rows/s; Avg. rate:   19781 rows/sProcessed: 735000 rows; Rate:   19271 rows/s; Avg. rate:   19768 rows/sProcessed: 740000 rows; Rate:   19061 rows/s; Avg. rate:   19761 rows/sProcessed: 745000 rows; Rate:   18115 rows/s; Avg. rate:   19741 rows/sProcessed: 750000 rows; Rate:   11419 rows/s; Avg. rate:   19332 rows/sProcessed: 755000 rows; Rate:   14525 rows/s; Avg. rate:   19319 rows/sProcessed: 765000 rows; Rate:   22555 rows/s; Avg. rate:   19413 rows/sProcessed: 775000 rows; Rate:   28095 rows/s; Avg. rate:   19519 rows/sProcessed: 785000 rows; Rate:   29224 rows/s; Avg. rate:   19608 rows/sProcessed: 790000 rows; Rate:   19203 rows/s; Avg. rate:   19468 rows/sProcessed: 800000 rows; Rate:   24530 rows/s; Avg. rate:   19553 rows/sProcessed: 815000 rows; Rate:   21496 rows/s; Avg. rate:   19608 rows/sProcessed: 820000 rows; Rate:   13173 rows/s; Avg. rate:   19251 rows/sProcessed: 840000 rows; Rate:   39865 rows/s; Avg. rate:   19582 rows/sProcessed: 845000 rows; Rate:   29617 rows/s; Avg. rate:   19581 rows/sProcessed: 850000 rows; Rate:   18141 rows/s; Avg. rate:   19360 rows/s"
     ]
    },
    {
     "name": "stdout",
     "output_type": "stream",
     "text": [
      "Processed: 865000 rows; Rate:   18247 rows/s; Avg. rate:   19342 rows/sProcessed: 875000 rows; Rate:   28976 rows/s; Avg. rate:   19456 rows/sProcessed: 880000 rows; Rate:   19293 rows/s; Avg. rate:   19344 rows/sProcessed: 890000 rows; Rate:   25388 rows/s; Avg. rate:   19428 rows/sProcessed: 895000 rows; Rate:   20233 rows/s; Avg. rate:   19397 rows/sProcessed: 905000 rows; Rate:   28317 rows/s; Avg. rate:   19497 rows/sProcessed: 910000 rows; Rate:   16665 rows/s; Avg. rate:   19193 rows/sProcessed: 915000 rows; Rate:   16683 rows/s; Avg. rate:   19177 rows/sProcessed: 925000 rows; Rate:   28026 rows/s; Avg. rate:   19284 rows/sProcessed: 930000 rows; Rate:   23739 rows/s; Avg. rate:   19285 rows/sProcessed: 940000 rows; Rate:   31379 rows/s; Avg. rate:   19389 rows/sProcessed: 945000 rows; Rate:   21579 rows/s; Avg. rate:   19323 rows/sProcessed: 960000 rows; Rate:   40238 rows/s; Avg. rate:   19528 rows/sProcessed: 965000 rows; Rate:   24554 rows/s; Avg. rate:   19407 rows/sProcessed: 970000 rows; Rate:   20462 rows/s; Avg. rate:   19389 rows/sProcessed: 975000 rows; Rate:   18030 rows/s; Avg. rate:   19365 rows/sProcessed: 980000 rows; Rate:   15192 rows/s; Avg. rate:   19309 rows/sProcessed: 985000 rows; Rate:   14809 rows/s; Avg. rate:   19276 rows/sProcessed: 995000 rows; Rate:   24917 rows/s; Avg. rate:   19363 rows/sProcessed: 1000000 rows; Rate:   16489 rows/s; Avg. rate:   19228 rows/sProcessed: 1000000 rows; Rate:    8244 rows/s; Avg. rate:   19191 rows/s\n",
      "1000000 rows imported from 1 files in 52.109 seconds (0 skipped).\n",
      "\n",
      "real\t0m52.678s\n",
      "user\t1m51.737s\n",
      "sys\t0m6.757s\n"
     ]
    }
   ],
   "source": [
    "!head -n 2 customer.csv\n",
    "!cat loadCustomer.cql\n",
    "!time cqlsh -f loadCustomer.cql"
   ]
  },
  {
   "cell_type": "code",
   "execution_count": 16,
   "metadata": {},
   "outputs": [
    {
     "name": "stdout",
     "output_type": "stream",
     "text": [
      "1|Customer1|F|21|AL|0|['jeans']|2016|6|Y\n",
      "2|Customer2|M|36|AK|1|['jeans']|2017|6|Y\n",
      "COPY demo.customer_live( id, customer_name, gender, age, state, home_store, items, year, month, rewards_member) FROM 'customerTest.csv' WITH DELIMITER = '|';\n",
      "Using 3 child processes\n",
      "\n",
      "Starting copy of demo.customer_live with columns [id, customer_name, gender, age, state, home_store, items, year, month, rewards_member].\n",
      "Processed: 5000 rows; Rate:    3797 rows/s; Avg. rate:    3796 rows/sProcessed: 10000 rows; Rate:    9238 rows/s; Avg. rate:    6033 rows/sProcessed: 10000 rows; Rate:    4619 rows/s; Avg. rate:    5678 rows/s\n",
      "10000 rows imported from 1 files in 1.761 seconds (0 skipped).\n",
      "\n",
      "real\t0m2.767s\n",
      "user\t0m2.039s\n",
      "sys\t0m0.516s\n"
     ]
    }
   ],
   "source": [
    "!head -n 2 customerTest.csv\n",
    "!cat loadCustomerTest.cql\n",
    "!time cqlsh -f loadCustomerTest.cql"
   ]
  },
  {
   "cell_type": "code",
   "execution_count": 68,
   "metadata": {},
   "outputs": [
    {
     "name": "stdout",
     "output_type": "stream",
     "text": [
      "2|Fancy Dress Shirt 1|dressShirt|AL|4|N\n",
      "4|Fancy Dress 1|dress|AL|133|N\n",
      "COPY demo.inventory( sku, item_name, item_type, stock_loc, num_items, backorder) FROM 'inventory.csv' WITH DELIMITER = '|';\n",
      "Using 3 child processes\n",
      "\n",
      "Starting copy of demo.inventory with columns [sku, item_name, item_type, stock_loc, num_items, backorder].\n",
      "Processed: 751 rows; Rate:    2297 rows/s; Avg. rate:    2296 rows/sProcessed: 751 rows; Rate:    1148 rows/s; Avg. rate:    1748 rows/s\n",
      "751 rows imported from 1 files in 0.430 seconds (0 skipped).\n"
     ]
    }
   ],
   "source": [
    "!head -n 2 inventory.csv\n",
    "!cat loadInventory.cql\n",
    "!cqlsh -f loadInventory.cql"
   ]
  },
  {
   "cell_type": "markdown",
   "metadata": {},
   "source": [
    "#### Do a select * on customer transaction table and verify that the values have been inserted into the DSE table. Because we have used as our primary key \"State\" we can use this in our WHERE clause."
   ]
  },
  {
   "cell_type": "code",
   "execution_count": 19,
   "metadata": {
    "scrolled": true
   },
   "outputs": [
    {
     "name": "stdout",
     "output_type": "stream",
     "text": [
      "(155, [u'shoes', u'heels', u'dress'])\n",
      "(405, [u'dress', u'heels'])\n",
      "(2205, [u'dress', u'heels'])\n",
      "(2405, [u'dress', u'heels'])\n",
      "(2705, [u'dress', u'heels'])\n",
      "(3305, [u'dress', u'heels'])\n",
      "(7105, [u'tshirt', u'jeans'])\n",
      "(7405, [u'tshirt', u'jeans'])\n",
      "(8205, [u'dress', u'heels'])\n",
      "(9405, [u'dress', u'heels'])\n"
     ]
    }
   ],
   "source": [
    "query = 'SELECT * FROM customer_transactions WHERE state=\\'CA\\' limit 10'\n",
    "rows = session.execute(query)\n",
    "for user_row in rows:\n",
    "    print (user_row.id, user_row.items)"
   ]
  },
  {
   "cell_type": "markdown",
   "metadata": {},
   "source": [
    "### Finally time for Some Analytics!"
   ]
  },
  {
   "cell_type": "markdown",
   "metadata": {},
   "source": [
    "#### Create a spark session that is connected to Cassandra. From there load each table into a Spark Dataframe and take a count of the number of rows in each."
   ]
  },
  {
   "cell_type": "code",
   "execution_count": 20,
   "metadata": {
    "scrolled": true
   },
   "outputs": [
    {
     "name": "stdout",
     "output_type": "stream",
     "text": [
      "Table Train Count: \n",
      "1000000\n"
     ]
    },
    {
     "data": {
      "text/html": [
       "<div>\n",
       "<style scoped>\n",
       "    .dataframe tbody tr th:only-of-type {\n",
       "        vertical-align: middle;\n",
       "    }\n",
       "\n",
       "    .dataframe tbody tr th {\n",
       "        vertical-align: top;\n",
       "    }\n",
       "\n",
       "    .dataframe thead th {\n",
       "        text-align: right;\n",
       "    }\n",
       "</style>\n",
       "<table border=\"1\" class=\"dataframe\">\n",
       "  <thead>\n",
       "    <tr style=\"text-align: right;\">\n",
       "      <th></th>\n",
       "      <th>state</th>\n",
       "      <th>gender</th>\n",
       "      <th>age</th>\n",
       "      <th>id</th>\n",
       "      <th>customer_name</th>\n",
       "      <th>home_store</th>\n",
       "      <th>items</th>\n",
       "      <th>month</th>\n",
       "      <th>rewards_member</th>\n",
       "      <th>year</th>\n",
       "    </tr>\n",
       "  </thead>\n",
       "  <tbody>\n",
       "    <tr>\n",
       "      <th>0</th>\n",
       "      <td>TX</td>\n",
       "      <td>F</td>\n",
       "      <td>18</td>\n",
       "      <td>20794</td>\n",
       "      <td>Customer20794</td>\n",
       "      <td>43</td>\n",
       "      <td>[tshirt, jeans]</td>\n",
       "      <td>4</td>\n",
       "      <td>Y</td>\n",
       "      <td>2016</td>\n",
       "    </tr>\n",
       "    <tr>\n",
       "      <th>1</th>\n",
       "      <td>TX</td>\n",
       "      <td>F</td>\n",
       "      <td>18</td>\n",
       "      <td>26994</td>\n",
       "      <td>Customer26994</td>\n",
       "      <td>43</td>\n",
       "      <td>[shoes, heels, dress]</td>\n",
       "      <td>5</td>\n",
       "      <td>N</td>\n",
       "      <td>2016</td>\n",
       "    </tr>\n",
       "    <tr>\n",
       "      <th>2</th>\n",
       "      <td>TX</td>\n",
       "      <td>F</td>\n",
       "      <td>18</td>\n",
       "      <td>50594</td>\n",
       "      <td>Customer50594</td>\n",
       "      <td>43</td>\n",
       "      <td>[shoes, heels, dress]</td>\n",
       "      <td>11</td>\n",
       "      <td>N</td>\n",
       "      <td>2017</td>\n",
       "    </tr>\n",
       "    <tr>\n",
       "      <th>3</th>\n",
       "      <td>TX</td>\n",
       "      <td>F</td>\n",
       "      <td>18</td>\n",
       "      <td>50944</td>\n",
       "      <td>Customer50944</td>\n",
       "      <td>43</td>\n",
       "      <td>[tshirt, jeans]</td>\n",
       "      <td>1</td>\n",
       "      <td>N</td>\n",
       "      <td>2016</td>\n",
       "    </tr>\n",
       "    <tr>\n",
       "      <th>4</th>\n",
       "      <td>TX</td>\n",
       "      <td>F</td>\n",
       "      <td>18</td>\n",
       "      <td>54344</td>\n",
       "      <td>Customer54344</td>\n",
       "      <td>43</td>\n",
       "      <td>[shoes, heels, dress]</td>\n",
       "      <td>1</td>\n",
       "      <td>Y</td>\n",
       "      <td>2016</td>\n",
       "    </tr>\n",
       "  </tbody>\n",
       "</table>\n",
       "</div>"
      ],
      "text/plain": [
       "  state gender  age     id  customer_name  home_store                  items  \\\n",
       "0    TX      F   18  20794  Customer20794          43        [tshirt, jeans]   \n",
       "1    TX      F   18  26994  Customer26994          43  [shoes, heels, dress]   \n",
       "2    TX      F   18  50594  Customer50594          43  [shoes, heels, dress]   \n",
       "3    TX      F   18  50944  Customer50944          43        [tshirt, jeans]   \n",
       "4    TX      F   18  54344  Customer54344          43  [shoes, heels, dress]   \n",
       "\n",
       "   month rewards_member  year  \n",
       "0      4              Y  2016  \n",
       "1      5              N  2016  \n",
       "2     11              N  2017  \n",
       "3      1              N  2016  \n",
       "4      1              Y  2016  "
      ]
     },
     "metadata": {},
     "output_type": "display_data"
    },
    {
     "name": "stdout",
     "output_type": "stream",
     "text": [
      "Table Test Count: \n",
      "10000\n"
     ]
    },
    {
     "data": {
      "text/html": [
       "<div>\n",
       "<style scoped>\n",
       "    .dataframe tbody tr th:only-of-type {\n",
       "        vertical-align: middle;\n",
       "    }\n",
       "\n",
       "    .dataframe tbody tr th {\n",
       "        vertical-align: top;\n",
       "    }\n",
       "\n",
       "    .dataframe thead th {\n",
       "        text-align: right;\n",
       "    }\n",
       "</style>\n",
       "<table border=\"1\" class=\"dataframe\">\n",
       "  <thead>\n",
       "    <tr style=\"text-align: right;\">\n",
       "      <th></th>\n",
       "      <th>state</th>\n",
       "      <th>gender</th>\n",
       "      <th>age</th>\n",
       "      <th>id</th>\n",
       "      <th>customer_name</th>\n",
       "      <th>home_store</th>\n",
       "      <th>items</th>\n",
       "      <th>month</th>\n",
       "      <th>rewards_member</th>\n",
       "      <th>year</th>\n",
       "    </tr>\n",
       "  </thead>\n",
       "  <tbody>\n",
       "    <tr>\n",
       "      <th>0</th>\n",
       "      <td>TX</td>\n",
       "      <td>F</td>\n",
       "      <td>18</td>\n",
       "      <td>4694</td>\n",
       "      <td>Customer4694</td>\n",
       "      <td>43</td>\n",
       "      <td>[jeans]</td>\n",
       "      <td>2</td>\n",
       "      <td>Y</td>\n",
       "      <td>2016</td>\n",
       "    </tr>\n",
       "    <tr>\n",
       "      <th>1</th>\n",
       "      <td>TX</td>\n",
       "      <td>F</td>\n",
       "      <td>18</td>\n",
       "      <td>6894</td>\n",
       "      <td>Customer6894</td>\n",
       "      <td>43</td>\n",
       "      <td>[jeans]</td>\n",
       "      <td>11</td>\n",
       "      <td>N</td>\n",
       "      <td>2017</td>\n",
       "    </tr>\n",
       "    <tr>\n",
       "      <th>2</th>\n",
       "      <td>TX</td>\n",
       "      <td>F</td>\n",
       "      <td>19</td>\n",
       "      <td>6694</td>\n",
       "      <td>Customer6694</td>\n",
       "      <td>43</td>\n",
       "      <td>[jeans]</td>\n",
       "      <td>8</td>\n",
       "      <td>N</td>\n",
       "      <td>2016</td>\n",
       "    </tr>\n",
       "    <tr>\n",
       "      <th>3</th>\n",
       "      <td>TX</td>\n",
       "      <td>F</td>\n",
       "      <td>20</td>\n",
       "      <td>1044</td>\n",
       "      <td>Customer1044</td>\n",
       "      <td>43</td>\n",
       "      <td>[jeans]</td>\n",
       "      <td>5</td>\n",
       "      <td>N</td>\n",
       "      <td>2016</td>\n",
       "    </tr>\n",
       "    <tr>\n",
       "      <th>4</th>\n",
       "      <td>TX</td>\n",
       "      <td>F</td>\n",
       "      <td>20</td>\n",
       "      <td>5294</td>\n",
       "      <td>Customer5294</td>\n",
       "      <td>43</td>\n",
       "      <td>[jeans]</td>\n",
       "      <td>3</td>\n",
       "      <td>N</td>\n",
       "      <td>2017</td>\n",
       "    </tr>\n",
       "  </tbody>\n",
       "</table>\n",
       "</div>"
      ],
      "text/plain": [
       "  state gender  age    id customer_name  home_store    items  month  \\\n",
       "0    TX      F   18  4694  Customer4694          43  [jeans]      2   \n",
       "1    TX      F   18  6894  Customer6894          43  [jeans]     11   \n",
       "2    TX      F   19  6694  Customer6694          43  [jeans]      8   \n",
       "3    TX      F   20  1044  Customer1044          43  [jeans]      5   \n",
       "4    TX      F   20  5294  Customer5294          43  [jeans]      3   \n",
       "\n",
       "  rewards_member  year  \n",
       "0              Y  2016  \n",
       "1              N  2017  \n",
       "2              N  2016  \n",
       "3              N  2016  \n",
       "4              N  2017  "
      ]
     },
     "metadata": {},
     "output_type": "display_data"
    }
   ],
   "source": [
    "spark = SparkSession.builder.appName('demo').master(\"local\").getOrCreate()\n",
    "\n",
    "tableDF = spark.read.format(\"org.apache.spark.sql.cassandra\").options(table=\"customer_transactions\", keyspace=\"demo\").load()\n",
    "\n",
    "testDF = spark.read.format(\"org.apache.spark.sql.cassandra\").options(table=\"customer_live\", keyspace=\"demo\").load()\n",
    "\n",
    "\n",
    "print \"Table Train Count: \"\n",
    "print tableDF.count()\n",
    "showDF(tableDF)\n",
    "\n",
    "print \"Table Test Count: \"\n",
    "print testDF.count()\n",
    "showDF(testDF)"
   ]
  },
  {
   "cell_type": "markdown",
   "metadata": {},
   "source": [
    "### With Spark we can also quickly create a new dataframes with just Customers who are of the ages 18-23. \n",
    "#### We can use this data frame to create another model and score our live data against.  \n",
    "#### Models++ = Strong Accurancy --> $$"
   ]
  },
  {
   "cell_type": "code",
   "execution_count": 22,
   "metadata": {},
   "outputs": [
    {
     "name": "stdout",
     "output_type": "stream",
     "text": [
      "Table Milennial Train Count: \n",
      "312268\n"
     ]
    },
    {
     "data": {
      "text/html": [
       "<div>\n",
       "<style scoped>\n",
       "    .dataframe tbody tr th:only-of-type {\n",
       "        vertical-align: middle;\n",
       "    }\n",
       "\n",
       "    .dataframe tbody tr th {\n",
       "        vertical-align: top;\n",
       "    }\n",
       "\n",
       "    .dataframe thead th {\n",
       "        text-align: right;\n",
       "    }\n",
       "</style>\n",
       "<table border=\"1\" class=\"dataframe\">\n",
       "  <thead>\n",
       "    <tr style=\"text-align: right;\">\n",
       "      <th></th>\n",
       "      <th>state</th>\n",
       "      <th>gender</th>\n",
       "      <th>age</th>\n",
       "      <th>id</th>\n",
       "      <th>customer_name</th>\n",
       "      <th>home_store</th>\n",
       "      <th>items</th>\n",
       "      <th>month</th>\n",
       "      <th>rewards_member</th>\n",
       "      <th>year</th>\n",
       "    </tr>\n",
       "  </thead>\n",
       "  <tbody>\n",
       "    <tr>\n",
       "      <th>0</th>\n",
       "      <td>OR</td>\n",
       "      <td>F</td>\n",
       "      <td>18</td>\n",
       "      <td>3938</td>\n",
       "      <td>Customer3938</td>\n",
       "      <td>37</td>\n",
       "      <td>[shoes, heels, dress]</td>\n",
       "      <td>11</td>\n",
       "      <td>Y</td>\n",
       "      <td>2017</td>\n",
       "    </tr>\n",
       "    <tr>\n",
       "      <th>1</th>\n",
       "      <td>OR</td>\n",
       "      <td>F</td>\n",
       "      <td>18</td>\n",
       "      <td>15588</td>\n",
       "      <td>Customer15588</td>\n",
       "      <td>37</td>\n",
       "      <td>[shoes, heels, dress]</td>\n",
       "      <td>7</td>\n",
       "      <td>N</td>\n",
       "      <td>2017</td>\n",
       "    </tr>\n",
       "    <tr>\n",
       "      <th>2</th>\n",
       "      <td>OR</td>\n",
       "      <td>F</td>\n",
       "      <td>18</td>\n",
       "      <td>16138</td>\n",
       "      <td>Customer16138</td>\n",
       "      <td>37</td>\n",
       "      <td>[tshirt, jeans]</td>\n",
       "      <td>5</td>\n",
       "      <td>N</td>\n",
       "      <td>2016</td>\n",
       "    </tr>\n",
       "    <tr>\n",
       "      <th>3</th>\n",
       "      <td>OR</td>\n",
       "      <td>F</td>\n",
       "      <td>18</td>\n",
       "      <td>25288</td>\n",
       "      <td>Customer25288</td>\n",
       "      <td>37</td>\n",
       "      <td>[tshirt, jeans]</td>\n",
       "      <td>6</td>\n",
       "      <td>Y</td>\n",
       "      <td>2016</td>\n",
       "    </tr>\n",
       "    <tr>\n",
       "      <th>4</th>\n",
       "      <td>OR</td>\n",
       "      <td>F</td>\n",
       "      <td>18</td>\n",
       "      <td>27588</td>\n",
       "      <td>Customer27588</td>\n",
       "      <td>37</td>\n",
       "      <td>[shoes, heels, dress]</td>\n",
       "      <td>5</td>\n",
       "      <td>Y</td>\n",
       "      <td>2017</td>\n",
       "    </tr>\n",
       "  </tbody>\n",
       "</table>\n",
       "</div>"
      ],
      "text/plain": [
       "  state gender  age     id  customer_name  home_store                  items  \\\n",
       "0    OR      F   18   3938   Customer3938          37  [shoes, heels, dress]   \n",
       "1    OR      F   18  15588  Customer15588          37  [shoes, heels, dress]   \n",
       "2    OR      F   18  16138  Customer16138          37        [tshirt, jeans]   \n",
       "3    OR      F   18  25288  Customer25288          37        [tshirt, jeans]   \n",
       "4    OR      F   18  27588  Customer27588          37  [shoes, heels, dress]   \n",
       "\n",
       "   month rewards_member  year  \n",
       "0     11              Y  2017  \n",
       "1      7              N  2017  \n",
       "2      5              N  2016  \n",
       "3      6              Y  2016  \n",
       "4      5              Y  2017  "
      ]
     },
     "metadata": {},
     "output_type": "display_data"
    },
    {
     "name": "stdout",
     "output_type": "stream",
     "text": [
      "Table Milennial Test Count:\n",
      "3127\n"
     ]
    },
    {
     "data": {
      "text/html": [
       "<div>\n",
       "<style scoped>\n",
       "    .dataframe tbody tr th:only-of-type {\n",
       "        vertical-align: middle;\n",
       "    }\n",
       "\n",
       "    .dataframe tbody tr th {\n",
       "        vertical-align: top;\n",
       "    }\n",
       "\n",
       "    .dataframe thead th {\n",
       "        text-align: right;\n",
       "    }\n",
       "</style>\n",
       "<table border=\"1\" class=\"dataframe\">\n",
       "  <thead>\n",
       "    <tr style=\"text-align: right;\">\n",
       "      <th></th>\n",
       "      <th>state</th>\n",
       "      <th>gender</th>\n",
       "      <th>age</th>\n",
       "      <th>id</th>\n",
       "      <th>customer_name</th>\n",
       "      <th>home_store</th>\n",
       "      <th>items</th>\n",
       "      <th>month</th>\n",
       "      <th>rewards_member</th>\n",
       "      <th>year</th>\n",
       "    </tr>\n",
       "  </thead>\n",
       "  <tbody>\n",
       "    <tr>\n",
       "      <th>0</th>\n",
       "      <td>OR</td>\n",
       "      <td>F</td>\n",
       "      <td>18</td>\n",
       "      <td>9288</td>\n",
       "      <td>Customer9288</td>\n",
       "      <td>37</td>\n",
       "      <td>[jeans]</td>\n",
       "      <td>8</td>\n",
       "      <td>Y</td>\n",
       "      <td>2016</td>\n",
       "    </tr>\n",
       "    <tr>\n",
       "      <th>1</th>\n",
       "      <td>OR</td>\n",
       "      <td>F</td>\n",
       "      <td>19</td>\n",
       "      <td>4188</td>\n",
       "      <td>Customer4188</td>\n",
       "      <td>37</td>\n",
       "      <td>[jeans]</td>\n",
       "      <td>2</td>\n",
       "      <td>N</td>\n",
       "      <td>2017</td>\n",
       "    </tr>\n",
       "    <tr>\n",
       "      <th>2</th>\n",
       "      <td>OR</td>\n",
       "      <td>F</td>\n",
       "      <td>20</td>\n",
       "      <td>7138</td>\n",
       "      <td>Customer7138</td>\n",
       "      <td>37</td>\n",
       "      <td>[jeans]</td>\n",
       "      <td>5</td>\n",
       "      <td>Y</td>\n",
       "      <td>2016</td>\n",
       "    </tr>\n",
       "    <tr>\n",
       "      <th>3</th>\n",
       "      <td>OR</td>\n",
       "      <td>F</td>\n",
       "      <td>21</td>\n",
       "      <td>9588</td>\n",
       "      <td>Customer9588</td>\n",
       "      <td>37</td>\n",
       "      <td>[jeans]</td>\n",
       "      <td>8</td>\n",
       "      <td>Y</td>\n",
       "      <td>2017</td>\n",
       "    </tr>\n",
       "    <tr>\n",
       "      <th>4</th>\n",
       "      <td>OR</td>\n",
       "      <td>F</td>\n",
       "      <td>22</td>\n",
       "      <td>7388</td>\n",
       "      <td>Customer7388</td>\n",
       "      <td>37</td>\n",
       "      <td>[jeans]</td>\n",
       "      <td>2</td>\n",
       "      <td>N</td>\n",
       "      <td>2017</td>\n",
       "    </tr>\n",
       "  </tbody>\n",
       "</table>\n",
       "</div>"
      ],
      "text/plain": [
       "  state gender  age    id customer_name  home_store    items  month  \\\n",
       "0    OR      F   18  9288  Customer9288          37  [jeans]      8   \n",
       "1    OR      F   19  4188  Customer4188          37  [jeans]      2   \n",
       "2    OR      F   20  7138  Customer7138          37  [jeans]      5   \n",
       "3    OR      F   21  9588  Customer9588          37  [jeans]      8   \n",
       "4    OR      F   22  7388  Customer7388          37  [jeans]      2   \n",
       "\n",
       "  rewards_member  year  \n",
       "0              Y  2016  \n",
       "1              N  2017  \n",
       "2              Y  2016  \n",
       "3              Y  2017  \n",
       "4              N  2017  "
      ]
     },
     "metadata": {},
     "output_type": "display_data"
    }
   ],
   "source": [
    "tableMilDF = tableDF.where(tableDF.age < 24)\n",
    "print \"Table Milennial Train Count: \"\n",
    "print tableMilDF.count()\n",
    "showDF(tableMilDF)\n",
    "testMilDF = testDF.where(testDF.age < 24)\n",
    "print \"Table Milennial Test Count:\"\n",
    "print testMilDF.count()\n",
    "showDF(testMilDF)"
   ]
  },
  {
   "cell_type": "code",
   "execution_count": 23,
   "metadata": {},
   "outputs": [
    {
     "name": "stdout",
     "output_type": "stream",
     "text": [
      "Table Everyone Else Train Count: \n",
      "677195\n"
     ]
    },
    {
     "data": {
      "text/html": [
       "<div>\n",
       "<style scoped>\n",
       "    .dataframe tbody tr th:only-of-type {\n",
       "        vertical-align: middle;\n",
       "    }\n",
       "\n",
       "    .dataframe tbody tr th {\n",
       "        vertical-align: top;\n",
       "    }\n",
       "\n",
       "    .dataframe thead th {\n",
       "        text-align: right;\n",
       "    }\n",
       "</style>\n",
       "<table border=\"1\" class=\"dataframe\">\n",
       "  <thead>\n",
       "    <tr style=\"text-align: right;\">\n",
       "      <th></th>\n",
       "      <th>state</th>\n",
       "      <th>gender</th>\n",
       "      <th>age</th>\n",
       "      <th>id</th>\n",
       "      <th>customer_name</th>\n",
       "      <th>home_store</th>\n",
       "      <th>items</th>\n",
       "      <th>month</th>\n",
       "      <th>rewards_member</th>\n",
       "      <th>year</th>\n",
       "    </tr>\n",
       "  </thead>\n",
       "  <tbody>\n",
       "    <tr>\n",
       "      <th>0</th>\n",
       "      <td>OR</td>\n",
       "      <td>F</td>\n",
       "      <td>25</td>\n",
       "      <td>5888</td>\n",
       "      <td>Customer5888</td>\n",
       "      <td>37</td>\n",
       "      <td>[shoes, heels, dress]</td>\n",
       "      <td>2</td>\n",
       "      <td>N</td>\n",
       "      <td>2017</td>\n",
       "    </tr>\n",
       "    <tr>\n",
       "      <th>1</th>\n",
       "      <td>OR</td>\n",
       "      <td>F</td>\n",
       "      <td>25</td>\n",
       "      <td>8438</td>\n",
       "      <td>Customer8438</td>\n",
       "      <td>37</td>\n",
       "      <td>[shoes, heels, dress]</td>\n",
       "      <td>10</td>\n",
       "      <td>N</td>\n",
       "      <td>2016</td>\n",
       "    </tr>\n",
       "    <tr>\n",
       "      <th>2</th>\n",
       "      <td>OR</td>\n",
       "      <td>F</td>\n",
       "      <td>25</td>\n",
       "      <td>11938</td>\n",
       "      <td>Customer11938</td>\n",
       "      <td>37</td>\n",
       "      <td>[shoe, socks]</td>\n",
       "      <td>6</td>\n",
       "      <td>N</td>\n",
       "      <td>2017</td>\n",
       "    </tr>\n",
       "    <tr>\n",
       "      <th>3</th>\n",
       "      <td>OR</td>\n",
       "      <td>F</td>\n",
       "      <td>25</td>\n",
       "      <td>16338</td>\n",
       "      <td>Customer16338</td>\n",
       "      <td>37</td>\n",
       "      <td>[shoes, heels, dress]</td>\n",
       "      <td>5</td>\n",
       "      <td>Y</td>\n",
       "      <td>2016</td>\n",
       "    </tr>\n",
       "    <tr>\n",
       "      <th>4</th>\n",
       "      <td>OR</td>\n",
       "      <td>F</td>\n",
       "      <td>25</td>\n",
       "      <td>24038</td>\n",
       "      <td>Customer24038</td>\n",
       "      <td>37</td>\n",
       "      <td>[shoes, heels, dress]</td>\n",
       "      <td>11</td>\n",
       "      <td>Y</td>\n",
       "      <td>2016</td>\n",
       "    </tr>\n",
       "  </tbody>\n",
       "</table>\n",
       "</div>"
      ],
      "text/plain": [
       "  state gender  age     id  customer_name  home_store                  items  \\\n",
       "0    OR      F   25   5888   Customer5888          37  [shoes, heels, dress]   \n",
       "1    OR      F   25   8438   Customer8438          37  [shoes, heels, dress]   \n",
       "2    OR      F   25  11938  Customer11938          37          [shoe, socks]   \n",
       "3    OR      F   25  16338  Customer16338          37  [shoes, heels, dress]   \n",
       "4    OR      F   25  24038  Customer24038          37  [shoes, heels, dress]   \n",
       "\n",
       "   month rewards_member  year  \n",
       "0      2              N  2017  \n",
       "1     10              N  2016  \n",
       "2      6              N  2017  \n",
       "3      5              Y  2016  \n",
       "4     11              Y  2016  "
      ]
     },
     "metadata": {},
     "output_type": "display_data"
    },
    {
     "name": "stdout",
     "output_type": "stream",
     "text": [
      "Table Everyone Else Test Count:\n",
      "6767\n"
     ]
    },
    {
     "data": {
      "text/html": [
       "<div>\n",
       "<style scoped>\n",
       "    .dataframe tbody tr th:only-of-type {\n",
       "        vertical-align: middle;\n",
       "    }\n",
       "\n",
       "    .dataframe tbody tr th {\n",
       "        vertical-align: top;\n",
       "    }\n",
       "\n",
       "    .dataframe thead th {\n",
       "        text-align: right;\n",
       "    }\n",
       "</style>\n",
       "<table border=\"1\" class=\"dataframe\">\n",
       "  <thead>\n",
       "    <tr style=\"text-align: right;\">\n",
       "      <th></th>\n",
       "      <th>state</th>\n",
       "      <th>gender</th>\n",
       "      <th>age</th>\n",
       "      <th>id</th>\n",
       "      <th>customer_name</th>\n",
       "      <th>home_store</th>\n",
       "      <th>items</th>\n",
       "      <th>month</th>\n",
       "      <th>rewards_member</th>\n",
       "      <th>year</th>\n",
       "    </tr>\n",
       "  </thead>\n",
       "  <tbody>\n",
       "    <tr>\n",
       "      <th>0</th>\n",
       "      <td>TX</td>\n",
       "      <td>F</td>\n",
       "      <td>26</td>\n",
       "      <td>1894</td>\n",
       "      <td>Customer1894</td>\n",
       "      <td>43</td>\n",
       "      <td>[dress]</td>\n",
       "      <td>7</td>\n",
       "      <td>Y</td>\n",
       "      <td>2017</td>\n",
       "    </tr>\n",
       "    <tr>\n",
       "      <th>1</th>\n",
       "      <td>TX</td>\n",
       "      <td>F</td>\n",
       "      <td>27</td>\n",
       "      <td>5244</td>\n",
       "      <td>Customer5244</td>\n",
       "      <td>43</td>\n",
       "      <td>[jeans]</td>\n",
       "      <td>6</td>\n",
       "      <td>Y</td>\n",
       "      <td>2016</td>\n",
       "    </tr>\n",
       "    <tr>\n",
       "      <th>2</th>\n",
       "      <td>TX</td>\n",
       "      <td>F</td>\n",
       "      <td>28</td>\n",
       "      <td>3944</td>\n",
       "      <td>Customer3944</td>\n",
       "      <td>43</td>\n",
       "      <td>[jacket]</td>\n",
       "      <td>6</td>\n",
       "      <td>N</td>\n",
       "      <td>2017</td>\n",
       "    </tr>\n",
       "    <tr>\n",
       "      <th>3</th>\n",
       "      <td>TX</td>\n",
       "      <td>F</td>\n",
       "      <td>28</td>\n",
       "      <td>7594</td>\n",
       "      <td>Customer7594</td>\n",
       "      <td>43</td>\n",
       "      <td>[heels]</td>\n",
       "      <td>6</td>\n",
       "      <td>N</td>\n",
       "      <td>2017</td>\n",
       "    </tr>\n",
       "    <tr>\n",
       "      <th>4</th>\n",
       "      <td>TX</td>\n",
       "      <td>F</td>\n",
       "      <td>29</td>\n",
       "      <td>3844</td>\n",
       "      <td>Customer3844</td>\n",
       "      <td>43</td>\n",
       "      <td>[heels]</td>\n",
       "      <td>1</td>\n",
       "      <td>Y</td>\n",
       "      <td>2017</td>\n",
       "    </tr>\n",
       "  </tbody>\n",
       "</table>\n",
       "</div>"
      ],
      "text/plain": [
       "  state gender  age    id customer_name  home_store     items  month  \\\n",
       "0    TX      F   26  1894  Customer1894          43   [dress]      7   \n",
       "1    TX      F   27  5244  Customer5244          43   [jeans]      6   \n",
       "2    TX      F   28  3944  Customer3944          43  [jacket]      6   \n",
       "3    TX      F   28  7594  Customer7594          43   [heels]      6   \n",
       "4    TX      F   29  3844  Customer3844          43   [heels]      1   \n",
       "\n",
       "  rewards_member  year  \n",
       "0              Y  2017  \n",
       "1              Y  2016  \n",
       "2              N  2017  \n",
       "3              N  2017  \n",
       "4              Y  2017  "
      ]
     },
     "metadata": {},
     "output_type": "display_data"
    }
   ],
   "source": [
    "table24DF = tableDF.where(tableDF.age > 24)\n",
    "print \"Table Everyone Else Train Count: \"\n",
    "print table24DF.count()\n",
    "showDF(table24DF)\n",
    "print \"Table Everyone Else Test Count:\"\n",
    "test24DF = testDF.where(testDF.age > 24)\n",
    "print test24DF.count()\n",
    "showDF(test24DF)"
   ]
  },
  {
   "cell_type": "markdown",
   "metadata": {},
   "source": [
    "### FPGROWTH for Customer Shopping Cart Recommendations\n",
    "#### Use Apache Spark MLlib with FPGrowth to find Recommendation -- Do model training on customer transaction dataset then use the live customer shopping cart as the test dataset\n",
    "#### https://spark.apache.org/docs/latest/ml-frequent-pattern-mining.html\n",
    "#### https://spark.apache.org/docs/latest/api/python/pyspark.ml.html#pyspark.ml.fpm.FPGrowth\n",
    "\n",
    "#### Let's look at Non-Milennials First"
   ]
  },
  {
   "cell_type": "code",
   "execution_count": 24,
   "metadata": {
    "scrolled": false
   },
   "outputs": [
    {
     "name": "stdout",
     "output_type": "stream",
     "text": [
      "+-----+------+---+----+-------------+----------+------------+-----+--------------+----+--------------+\n",
      "|state|gender|age|  id|customer_name|home_store|       items|month|rewards_member|year|    prediction|\n",
      "+-----+------+---+----+-------------+----------+------------+-----+--------------+----+--------------+\n",
      "|   IA|     F| 25|1416| Customer1416|        15|     [socks]|    2|             Y|2017|        [shoe]|\n",
      "|   IA|     F| 25|5066| Customer5066|        15|    [jacket]|    9|             Y|2016|        [coat]|\n",
      "|   IA|     F| 25|7266| Customer7266|        15|    [jacket]|    7|             Y|2016|        [coat]|\n",
      "|   IA|     F| 27|2616| Customer2616|        15|     [dress]|    7|             Y|2017|[heels, shoes]|\n",
      "|   IA|     F| 27|3566| Customer3566|        15|     [heels]|   11|             N|2016|[shoes, dress]|\n",
      "|   IA|     F| 27|3966| Customer3966|        15|     [socks]|    6|             Y|2017|        [shoe]|\n",
      "|   IA|     F| 27|4166| Customer4166|        15|      [coat]|    7|             Y|2017|      [jacket]|\n",
      "|   IA|     F| 28|3866| Customer3866|        15|       [tie]|   11|             Y|2017|            []|\n",
      "|   IA|     F| 28|5866| Customer5866|        15|[dressShirt]|    1|             N|2017|            []|\n",
      "|   IA|     F| 29|8266| Customer8266|        15|      [coat]|    2|             N|2017|      [jacket]|\n",
      "|   IA|     F| 29|9366| Customer9366|        15|     [dress]|    1|             N|2016|[heels, shoes]|\n",
      "|   IA|     F| 30|2316| Customer2316|        15|      [coat]|    5|             N|2016|      [jacket]|\n",
      "|   IA|     F| 30|5166| Customer5166|        15|      [coat]|    8|             Y|2016|      [jacket]|\n",
      "|   IA|     F| 31| 766|  Customer766|        15|[dressShirt]|    2|             N|2016|            []|\n",
      "|   IA|     F| 31|3416| Customer3416|        15|      [coat]|   10|             Y|2017|      [jacket]|\n",
      "|   IA|     F| 32|9116| Customer9116|        15|     [jeans]|    1|             N|2016|            []|\n",
      "|   IA|     F| 33|5416| Customer5416|        15|     [shoes]|    4|             N|2017|[heels, dress]|\n",
      "|   IA|     F| 34|1066| Customer1066|        15|       [tie]|    5|             Y|2017|            []|\n",
      "|   IA|     F| 34|7016| Customer7016|        15|    [jacket]|   11|             Y|2016|        [coat]|\n",
      "|   IA|     F| 35|4666| Customer4666|        15|    [tshirt]|    1|             N|2017|            []|\n",
      "+-----+------+---+----+-------------+----------+------------+-----+--------------+----+--------------+\n",
      "only showing top 20 rows\n",
      "\n"
     ]
    }
   ],
   "source": [
    "from pyspark.ml.fpm import FPGrowth\n",
    "\n",
    "fpGrowth = FPGrowth(itemsCol=\"items\", minSupport=0.1, minConfidence=0.2)\n",
    "model = fpGrowth.fit(table24DF)\n",
    "recommendDF=model.transform(test24DF)\n",
    "recommendDF.show()"
   ]
  },
  {
   "cell_type": "markdown",
   "metadata": {},
   "source": [
    "### Let's build a model just for our young Milennial Customers\n",
    "#### Did we see anything different?"
   ]
  },
  {
   "cell_type": "code",
   "execution_count": 38,
   "metadata": {},
   "outputs": [
    {
     "name": "stdout",
     "output_type": "stream",
     "text": [
      "+-----+------+---+----+-------------+----------+-------+-----+--------------+----+----------+\n",
      "|state|gender|age|  id|customer_name|home_store|  items|month|rewards_member|year|prediction|\n",
      "+-----+------+---+----+-------------+----------+-------+-----+--------------+----+----------+\n",
      "|   TX|     F| 18|4694| Customer4694|        43|[jeans]|    2|             Y|2016|  [tshirt]|\n",
      "|   TX|     F| 18|6894| Customer6894|        43|[jeans]|   11|             N|2017|  [tshirt]|\n",
      "|   TX|     F| 19|6694| Customer6694|        43|[jeans]|    8|             N|2016|  [tshirt]|\n",
      "|   TX|     F| 20|1044| Customer1044|        43|[jeans]|    5|             N|2016|  [tshirt]|\n",
      "|   TX|     F| 20|5294| Customer5294|        43|[jeans]|    3|             N|2017|  [tshirt]|\n",
      "|   TX|     F| 21| 194|  Customer194|        43|[jeans]|    8|             Y|2017|  [tshirt]|\n",
      "|   TX|     F| 21|6294| Customer6294|        43|[jeans]|    7|             N|2016|  [tshirt]|\n",
      "|   TX|     F| 21|9044| Customer9044|        43|[jeans]|    5|             N|2016|  [tshirt]|\n",
      "|   TX|     F| 21|9744| Customer9744|        43|[jeans]|    9|             N|2016|  [tshirt]|\n",
      "|   TX|     F| 22|3544| Customer3544|        43|[jeans]|   11|             N|2016|  [tshirt]|\n",
      "|   TX|     F| 22|4994| Customer4994|        43|[jeans]|   10|             N|2017|  [tshirt]|\n",
      "|   TX|     F| 22|5994| Customer5994|        43|[jeans]|    8|             Y|2017|  [tshirt]|\n",
      "|   TX|     F| 22|8544| Customer8544|        43|[jeans]|    4|             Y|2016|  [tshirt]|\n",
      "|   TX|     F| 22|9644| Customer9644|        43|[jeans]|   11|             N|2016|  [tshirt]|\n",
      "|   TX|     F| 23| 594|  Customer594|        43|[socks]|    7|             N|2016|        []|\n",
      "|   TX|     F| 23|6194| Customer6194|        43|[jeans]|    1|             Y|2016|  [tshirt]|\n",
      "|   TX|     M| 18| 494|  Customer494|        43|[jeans]|    3|             Y|2016|  [tshirt]|\n",
      "|   TX|     M| 18|4244| Customer4244|        43|[jeans]|    5|             Y|2017|  [tshirt]|\n",
      "|   TX|     M| 18|4494| Customer4494|        43|[jeans]|   11|             Y|2016|  [tshirt]|\n",
      "|   TX|     M| 18|5444| Customer5444|        43|[jeans]|    8|             N|2017|  [tshirt]|\n",
      "+-----+------+---+----+-------------+----------+-------+-----+--------------+----+----------+\n",
      "only showing top 20 rows\n",
      "\n"
     ]
    }
   ],
   "source": [
    "fpGrowth1 = FPGrowth(itemsCol=\"items\", minSupport=0.1, minConfidence=0.1)\n",
    "model1 = fpGrowth1.fit(tableMilDF)\n",
    "recommendDF1=model1.transform(testMilDF)\n",
    "recommendDF1.show()"
   ]
  },
  {
   "cell_type": "code",
   "execution_count": 42,
   "metadata": {},
   "outputs": [],
   "source": [
    "from pyspark.sql.functions import col, size\n",
    "\n",
    "dfPrediction1=recommendDF1.where(size(col(\"prediction\")) > 0)\n",
    "dfPrediction=recommendDF.where(size(col(\"prediction\")) > 0)"
   ]
  },
  {
   "cell_type": "markdown",
   "metadata": {},
   "source": [
    "### Load Recommendations Dataframe include Predictions back into a Cassandra Table"
   ]
  },
  {
   "cell_type": "code",
   "execution_count": 43,
   "metadata": {},
   "outputs": [],
   "source": [
    "dfPrediction1.write.format(\"org.apache.spark.sql.cassandra\").options(table=\"customer_recommend\", keyspace=\"demo\").save(mode=\"append\")"
   ]
  },
  {
   "cell_type": "code",
   "execution_count": 44,
   "metadata": {},
   "outputs": [],
   "source": [
    "dfPrediction.write.format(\"org.apache.spark.sql.cassandra\").options(table=\"customer_recommend\", keyspace=\"demo\").save(mode=\"append\")"
   ]
  },
  {
   "cell_type": "markdown",
   "metadata": {},
   "source": [
    "### Get Recommended Items from Inventory Table\n",
    "#### For each customer in the recommendations table (sorry this is a select * on all, but must be done!) For each item type that was recommended (bed, sweather, pants) query the inventory table for that item type, the wearhouse location that is in the same state at the user (one per state), and if the item is on backorder. Whatever specific item name matchs this query is what will be recommended to the user."
   ]
  },
  {
   "cell_type": "code",
   "execution_count": 74,
   "metadata": {
    "scrolled": true
   },
   "outputs": [
    {
     "name": "stdout",
     "output_type": "stream",
     "text": [
      "Customer: Customer6924 **Shopping Cart: [u'coat']** --> Recommendations: Type: jacket Name: Active\n",
      "Customer: Customer6924 **Shopping Cart: [u'coat']** --> Recommendations: Type: jacket Name: Varsity\n",
      "Customer: Customer5555 **Shopping Cart: [u'dress']** --> Recommendations: Type: heels Name: High Heels\n",
      "Customer: Customer5555 **Shopping Cart: [u'dress']** --> Recommendations: Type: heels Name: High Heels\n",
      "Customer: Customer5555 **Shopping Cart: [u'dress']** --> Recommendations: Type: shoes Name: Vans\n",
      "Customer: Customer5555 **Shopping Cart: [u'dress']** --> Recommendations: Type: shoes Name: Vans\n",
      "Customer: Customer9286 **Shopping Cart: [u'heels']** --> Recommendations: Type: shoes Name: Oxford\n",
      "Customer: Customer9286 **Shopping Cart: [u'heels']** --> Recommendations: Type: shoes Name: Vans\n",
      "Customer: Customer9286 **Shopping Cart: [u'heels']** --> Recommendations: Type: dress Name: Red Dress\n",
      "Customer: Customer9286 **Shopping Cart: [u'heels']** --> Recommendations: Type: dress Name: Purple Dress\n",
      "Customer: Customer1560 **Shopping Cart: [u'coat']** --> Recommendations: Type: jacket Name: Puff\n",
      "Customer: Customer1560 **Shopping Cart: [u'coat']** --> Recommendations: Type: jacket Name: Varsity\n",
      "Customer: Customer6627 **Shopping Cart: [u'jacket']** --> Recommendations: Type: coat Name: Black\n",
      "Customer: Customer78 **Shopping Cart: [u'shoes']** --> Recommendations: Type: heels Name: Low Heels\n",
      "Customer: Customer78 **Shopping Cart: [u'shoes']** --> Recommendations: Type: dress Name: Fancy Dress 1\n",
      "Customer: Customer603 **Shopping Cart: [u'shoes']** --> Recommendations: Type: heels Name: Low Heels\n",
      "Customer: Customer603 **Shopping Cart: [u'shoes']** --> Recommendations: Type: dress Name: Fancy Dress 1\n",
      "Customer: Customer9629 **Shopping Cart: [u'jeans']** --> Recommendations: Type: tshirt Name: Fancy Tshirt 1\n",
      "Customer: Customer3937 **Shopping Cart: [u'jeans']** --> Recommendations: Type: tshirt Name: Datastax Tshirt\n",
      "Customer: Customer3937 **Shopping Cart: [u'jeans']** --> Recommendations: Type: tshirt Name: Black Tshirt\n",
      "Customer: Customer6302 **Shopping Cart: [u'dress']** --> Recommendations: Type: heels Name: High Heels\n",
      "Customer: Customer6302 **Shopping Cart: [u'dress']** --> Recommendations: Type: shoes Name: Boot\n"
     ]
    }
   ],
   "source": [
    "query = 'SELECT * FROM customer_recommend limit 10'\n",
    "rows = session.execute(query)\n",
    "for user_row in rows:\n",
    "        for item in user_row.prediction:\n",
    "            query = \"SELECT * FROM inventory WHERE item_type=\\'%s\\' AND stock_loc=\\'%s\\' AND\\\n",
    "            backorder=\\'N\\'\" % (item, user_row.state)\n",
    "            items = session.execute(query)\n",
    "            for item_row in items:\n",
    "                print \"Customer: \" + user_row.customer_name + \" **Shopping Cart: \" + str(user_row.items) + \"** --> Recommendations: Type: \" + item + \" Name: \" + item_row.item_name"
   ]
  },
  {
   "cell_type": "code",
   "execution_count": 66,
   "metadata": {},
   "outputs": [
    {
     "data": {
      "text/plain": [
       "<cassandra.cluster.ResultSet at 0x7f32746bcc90>"
      ]
     },
     "execution_count": 66,
     "metadata": {},
     "output_type": "execute_result"
    }
   ],
   "source": [
    "#session.execute(\"drop table customer_live\")\n",
    "#session.execute(\"drop table customer_recommend\")\n",
    "#session.execute(\"drop table inventory\")\n",
    "#session.execute(\"drop table customer_transactions\")"
   ]
  },
  {
   "cell_type": "code",
   "execution_count": null,
   "metadata": {},
   "outputs": [],
   "source": []
  }
 ],
 "metadata": {
  "kernelspec": {
   "display_name": "Python 2",
   "language": "python",
   "name": "python2"
  },
  "language_info": {
   "codemirror_mode": {
    "name": "ipython",
    "version": 2
   },
   "file_extension": ".py",
   "mimetype": "text/x-python",
   "name": "python",
   "nbconvert_exporter": "python",
   "pygments_lexer": "ipython2",
   "version": "2.7.5"
  }
 },
 "nbformat": 4,
 "nbformat_minor": 2
}
